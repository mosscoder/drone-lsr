{
 "cells": [
  {
   "cell_type": "code",
   "execution_count": null,
   "metadata": {},
   "outputs": [],
   "source": [
    "# diagnostic.py\n",
    "import sys\n",
    "import os\n",
    "from dotenv import load_dotenv\n",
    "\n",
    "load_dotenv()\n",
    "\n",
    "print(f\"Python version: {sys.version}\")\n",
    "\n",
    "try:\n",
    "    from datasets import load_dataset\n",
    "    print(\"✓ datasets imported successfully\")\n",
    "\n",
    "    hf_token_path = os.getenv('HF_TOKEN')\n",
    "    with open(hf_token_path, 'r') as f:\n",
    "        hf_token = f.read().strip()\n",
    "    \n",
    "    import datasets\n",
    "    datasets.logging.set_verbosity_debug()\n",
    "    print(\"✓ Debug logging enabled\")\n",
    "    \n",
    "    print(\"\\nAttempting to load dataset...\")\n",
    "    dataset = load_dataset(\"mpg-ranch/light-stable-semantics\", token=hf_token)\n",
    "    print(\"✓ Dataset loaded successfully!\")\n",
    "    print(dataset)\n",
    "    \n",
    "except Exception as e:\n",
    "    print(f\"\\n✗ Error occurred: {type(e).__name__}\")\n",
    "    print(f\"Error message: {str(e)}\")\n",
    "    \n",
    "    # Additional debugging info\n",
    "    import traceback\n",
    "    print(\"\\nFull traceback:\")\n",
    "    traceback.print_exc()"
   ]
  },
  {
   "cell_type": "code",
   "execution_count": null,
   "metadata": {},
   "outputs": [],
   "source": [
    "from huggingface_hub import whoami\n",
    "\n",
    "try:\n",
    "    info = whoami()\n",
    "    print(f\"Logged in as: {info['name']}\")\n",
    "except Exception as e:\n",
    "    print(f\"Not logged in: {e}\")"
   ]
  },
  {
   "cell_type": "code",
   "execution_count": 1,
   "metadata": {},
   "outputs": [],
   "source": [
    "import os\n",
    "\n",
    "os.environ.get(\"HF_TOKEN\")"
   ]
  },
  {
   "cell_type": "code",
   "execution_count": 3,
   "metadata": {},
   "outputs": [
    {
     "name": "stderr",
     "output_type": "stream",
     "text": [
      "/Users/kdoherty/miniforge3/envs/light-stable/lib/python3.10/site-packages/tqdm/auto.py:21: TqdmWarning: IProgress not found. Please update jupyter and ipywidgets. See https://ipywidgets.readthedocs.io/en/stable/user_install.html\n",
      "  from .autonotebook import tqdm as notebook_tqdm\n",
      "Generating train split: 100%|██████████| 87599/87599 [00:00<00:00, 1832548.62 examples/s]\n",
      "Generating validation split: 100%|██████████| 10570/10570 [00:00<00:00, 1294871.00 examples/s]"
     ]
    },
    {
     "name": "stdout",
     "output_type": "stream",
     "text": [
      "✓ Successfully loaded public SQuAD dataset\n"
     ]
    },
    {
     "name": "stderr",
     "output_type": "stream",
     "text": [
      "\n"
     ]
    }
   ],
   "source": [
    "from datasets import load_dataset\n",
    "\n",
    "# Try loading a known public dataset\n",
    "try:\n",
    "    # This is definitely public\n",
    "    test_dataset = load_dataset(\"squad\")\n",
    "    print(\"✓ Successfully loaded public SQuAD dataset\")\n",
    "except Exception as e:\n",
    "    print(f\"✗ Error loading public dataset: {e}\")"
   ]
  },
  {
   "cell_type": "code",
   "execution_count": 1,
   "metadata": {},
   "outputs": [
    {
     "name": "stderr",
     "output_type": "stream",
     "text": [
      "/Users/kdoherty/miniforge3/envs/light-stable/lib/python3.10/site-packages/tqdm/auto.py:21: TqdmWarning: IProgress not found. Please update jupyter and ipywidgets. See https://ipywidgets.readthedocs.io/en/stable/user_install.html\n",
      "  from .autonotebook import tqdm as notebook_tqdm\n",
      "Generating train split: 100%|██████████| 620/620 [00:02<00:00, 295.18 examples/s]\n"
     ]
    },
    {
     "data": {
      "text/plain": [
       "DatasetDict({\n",
       "    train: Dataset({\n",
       "        features: ['image_t0', 'image_t1', 'image_t2', 'idx'],\n",
       "        num_rows: 620\n",
       "    })\n",
       "})"
      ]
     },
     "execution_count": 1,
     "metadata": {},
     "output_type": "execute_result"
    }
   ],
   "source": [
    "from datasets import load_dataset\n",
    "\n",
    "dataset = load_dataset(\"mpg-ranch/light-stable-semantics\")\n",
    "\n",
    "dataset\n"
   ]
  },
  {
   "cell_type": "code",
   "execution_count": null,
   "metadata": {},
   "outputs": [],
   "source": []
  }
 ],
 "metadata": {
  "kernelspec": {
   "display_name": "light-stable",
   "language": "python",
   "name": "python3"
  },
  "language_info": {
   "codemirror_mode": {
    "name": "ipython",
    "version": 3
   },
   "file_extension": ".py",
   "mimetype": "text/x-python",
   "name": "python",
   "nbconvert_exporter": "python",
   "pygments_lexer": "ipython3",
   "version": "3.10.18"
  }
 },
 "nbformat": 4,
 "nbformat_minor": 2
}
