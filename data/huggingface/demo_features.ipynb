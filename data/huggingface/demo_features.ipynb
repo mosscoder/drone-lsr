{
 "cells": [
  {
   "cell_type": "code",
   "execution_count": 1,
   "metadata": {},
   "outputs": [
    {
     "name": "stderr",
     "output_type": "stream",
     "text": [
      "/Users/kdoherty/miniforge3/envs/light-stable/lib/python3.10/site-packages/tqdm/auto.py:21: TqdmWarning: IProgress not found. Please update jupyter and ipywidgets. See https://ipywidgets.readthedocs.io/en/stable/user_install.html\n",
      "  from .autonotebook import tqdm as notebook_tqdm\n"
     ]
    }
   ],
   "source": [
    "from datasets import load_dataset\n",
    "import numpy as np\n",
    "import matplotlib.pyplot as plt\n",
    "from mpl_toolkits.axes_grid1 import make_axes_locatable"
   ]
  },
  {
   "cell_type": "code",
   "source": "# Clear the dataset cache to ensure fresh download\nimport shutil\nfrom pathlib import Path\n\ncache_dir = Path.home() / \".cache\" / \"huggingface\" / \"datasets\" / \"mpg-ranch___light-stable-semantics\"\nif cache_dir.exists():\n    shutil.rmtree(cache_dir)\n    print(f\"Cleared cache: {cache_dir}\")\nelse:\n    print(\"No cache found to clear\")",
   "metadata": {},
   "execution_count": null,
   "outputs": []
  },
  {
   "cell_type": "code",
   "execution_count": null,
   "metadata": {},
   "outputs": [],
   "source": "# Load all three dataset configurations (cache is cleared, so normal loading)\ndataset_default = load_dataset(\"mpg-ranch/light-stable-semantics\", \"default\", split='train')\ndataset_dinov2 = load_dataset(\"mpg-ranch/light-stable-semantics\", \"dinov2_base\", split='train')\ndataset_dinov3 = load_dataset(\"mpg-ranch/light-stable-semantics\", \"dinov3_sat\", split='train')\n\n# Get the same sample across all configs (they have matching idx values)\nsample_idx = 6\nobs_default = dataset_default[sample_idx]\nobs_dinov2 = dataset_dinov2[sample_idx] \nobs_dinov3 = dataset_dinov3[sample_idx]\n\nprint(f\"Sample idx: {obs_default['idx']}\")\nprint(f\"All configs have same idx: {obs_default['idx'] == obs_dinov2['idx'] == obs_dinov3['idx']}\")\nprint()\nprint(\"Default config features:\", list(obs_default.keys()))\nprint(\"DINOv2 config features:\", list(obs_dinov2.keys()))\nprint(\"DINOv3 config features:\", list(obs_dinov3.keys()))"
  },
  {
   "cell_type": "code",
   "execution_count": null,
   "metadata": {},
   "outputs": [],
   "source": [
    "# Show embedding shapes\n",
    "print(\"=== DINOv2 Base (ViT-B/14) ===\")\n",
    "print(f\"CLS token shape: {np.array(obs_dinov2['cls_t0']).shape}\")\n",
    "print(f\"Patch tokens shape: {np.array(obs_dinov2['patch_t0']).shape}\")\n",
    "print(f\"Patch grid: 16×16 = 256 patches\")\n",
    "print()\n",
    "\n",
    "print(\"=== DINOv3 Large (ViT-L/16) ===\")\n",
    "print(f\"CLS token shape: {np.array(obs_dinov3['cls_t0']).shape}\")\n",
    "print(f\"Patch tokens shape: {np.array(obs_dinov3['patch_t0']).shape}\")\n",
    "print(f\"Patch grid: 14×14 = 196 patches\")"
   ]
  },
  {
   "cell_type": "code",
   "execution_count": null,
   "metadata": {},
   "outputs": [],
   "source": [
    "# Visualize RGB images at three time points\n",
    "image_time_points = ['image_t0', 'image_t1', 'image_t2']\n",
    "images = [obs_default[i] for i in image_time_points]\n",
    "times = ['Morning (10:00 AM)', 'Noon (12:00 PM)', 'Afternoon (3:00 PM)']\n",
    "\n",
    "fig, axes = plt.subplots(1, 3, figsize=(15, 5))\n",
    "\n",
    "for i, (ax, image, time) in enumerate(zip(axes, images, times)):\n",
    "    ax.imshow(image)\n",
    "    ax.set_title(time, fontsize=12)\n",
    "    ax.axis('off')\n",
    "\n",
    "plt.tight_layout()\n",
    "plt.show()"
   ]
  },
  {
   "cell_type": "code",
   "execution_count": null,
   "metadata": {},
   "outputs": [],
   "source": [
    "# Visualize DINOv2 patch features (16x16 grid)\n",
    "patch_t0_v2 = np.array(obs_dinov2['patch_t0']).reshape(16, 16, 768, order='C')\n",
    "patch_t1_v2 = np.array(obs_dinov2['patch_t1']).reshape(16, 16, 768, order='C') \n",
    "patch_t2_v2 = np.array(obs_dinov2['patch_t2']).reshape(16, 16, 768, order='C')\n",
    "\n",
    "fig, axes = plt.subplots(3, 3, figsize=(12, 12))\n",
    "fig.suptitle('DINOv2 Base - First 3 Feature Dimensions', fontsize=16)\n",
    "\n",
    "patches_v2 = [patch_t0_v2, patch_t1_v2, patch_t2_v2]\n",
    "times = ['Morning (t0)', 'Noon (t1)', 'Afternoon (t2)']\n",
    "\n",
    "for feature_idx in range(3):  # First 3 features\n",
    "    for time_idx, (patch, time_label) in enumerate(zip(patches_v2, times)):\n",
    "        ax = axes[feature_idx, time_idx]\n",
    "        \n",
    "        # Extract the feature map for this feature dimension\n",
    "        feature_map = patch[:, :, feature_idx]\n",
    "        \n",
    "        # Display with viridis colormap\n",
    "        im = ax.imshow(feature_map, cmap='viridis', aspect='equal')\n",
    "        \n",
    "        # Add labels\n",
    "        if feature_idx == 0:\n",
    "            ax.set_title(time_label, fontsize=12)\n",
    "        if time_idx == 0:\n",
    "            ax.set_ylabel(f'Feature {feature_idx}', fontsize=12)\n",
    "        \n",
    "        ax.set_xticks([])\n",
    "        ax.set_yticks([])\n",
    "\n",
    "plt.tight_layout()\n",
    "plt.show()"
   ]
  },
  {
   "cell_type": "code",
   "execution_count": null,
   "metadata": {},
   "outputs": [],
   "source": [
    "# Visualize DINOv3 patch features (14x14 grid)\n",
    "patch_t0_v3 = np.array(obs_dinov3['patch_t0']).reshape(14, 14, 1024, order='C')\n",
    "patch_t1_v3 = np.array(obs_dinov3['patch_t1']).reshape(14, 14, 1024, order='C') \n",
    "patch_t2_v3 = np.array(obs_dinov3['patch_t2']).reshape(14, 14, 1024, order='C')\n",
    "\n",
    "fig, axes = plt.subplots(3, 3, figsize=(12, 12))\n",
    "fig.suptitle('DINOv3 Large - First 3 Feature Dimensions', fontsize=16)\n",
    "\n",
    "patches_v3 = [patch_t0_v3, patch_t1_v3, patch_t2_v3]\n",
    "times = ['Morning (t0)', 'Noon (t1)', 'Afternoon (t2)']\n",
    "\n",
    "for feature_idx in range(3):  # First 3 features\n",
    "    for time_idx, (patch, time_label) in enumerate(zip(patches_v3, times)):\n",
    "        ax = axes[feature_idx, time_idx]\n",
    "        \n",
    "        # Extract the feature map for this feature dimension\n",
    "        feature_map = patch[:, :, feature_idx]\n",
    "        \n",
    "        # Display with viridis colormap\n",
    "        im = ax.imshow(feature_map, cmap='viridis', aspect='equal')\n",
    "        \n",
    "        # Add labels\n",
    "        if feature_idx == 0:\n",
    "            ax.set_title(time_label, fontsize=12)\n",
    "        if time_idx == 0:\n",
    "            ax.set_ylabel(f'Feature {feature_idx}', fontsize=12)\n",
    "        \n",
    "        ax.set_xticks([])\n",
    "        ax.set_yticks([])\n",
    "\n",
    "plt.tight_layout()\n",
    "plt.show()"
   ]
  },
  {
   "cell_type": "code",
   "execution_count": null,
   "metadata": {},
   "outputs": [],
   "source": [
    "# Visualize RGB and Canopy Height from default config\n",
    "rgb_t2 = np.array(obs_default['image_t2'])\n",
    "chm = np.array(obs_default['canopy_height'], dtype=np.float32) / 100  # Convert cm to meters\n",
    "\n",
    "height, width = rgb_t2.shape[:2]\n",
    "extent = [0, width, height, 0]\n",
    "\n",
    "# Create figure with constrained layout to handle colorbar properly\n",
    "fig, axes = plt.subplots(1, 2, figsize=(12, 6), constrained_layout=True)\n",
    "\n",
    "# RGB plot\n",
    "axes[0].imshow(rgb_t2, extent=extent)\n",
    "axes[0].set_title('RGB (3:00 PM)')\n",
    "axes[0].set_aspect('equal')\n",
    "axes[0].axis('off')\n",
    "\n",
    "# CHM plot\n",
    "cmap = plt.cm.viridis.copy()\n",
    "cmap.set_bad('white', alpha=0.0)\n",
    "im_chm = axes[1].imshow(chm, cmap=cmap, extent=extent, interpolation='nearest')\n",
    "axes[1].set_title('Canopy Height (m)')\n",
    "axes[1].set_aspect('equal')\n",
    "axes[1].axis('off')\n",
    "\n",
    "# Add colorbar without affecting subplot sizes\n",
    "cbar = fig.colorbar(im_chm, ax=axes[1], shrink=0.8)\n",
    "cbar.set_label('Plant height (m)')\n",
    "\n",
    "plt.show()"
   ]
  },
  {
   "cell_type": "code",
   "execution_count": null,
   "metadata": {},
   "outputs": [],
   "source": [
    "# Compare CLS token embeddings between models\n",
    "cls_dinov2_t1 = np.array(obs_dinov2['cls_t1'])  # 768-dim\n",
    "cls_dinov3_t1 = np.array(obs_dinov3['cls_t1'])  # 1024-dim\n",
    "\n",
    "fig, axes = plt.subplots(1, 2, figsize=(15, 5))\n",
    "\n",
    "# DINOv2 CLS token\n",
    "axes[0].plot(cls_dinov2_t1, 'b-', alpha=0.7, linewidth=1)\n",
    "axes[0].set_title('DINOv2 Base CLS Token (768-dim)', fontsize=12)\n",
    "axes[0].set_xlabel('Feature dimension')\n",
    "axes[0].set_ylabel('Activation value')\n",
    "axes[0].grid(True, alpha=0.3)\n",
    "\n",
    "# DINOv3 CLS token  \n",
    "axes[1].plot(cls_dinov3_t1, 'r-', alpha=0.7, linewidth=1)\n",
    "axes[1].set_title('DINOv3 Large CLS Token (1024-dim)', fontsize=12)\n",
    "axes[1].set_xlabel('Feature dimension')\n",
    "axes[1].set_ylabel('Activation value')\n",
    "axes[1].grid(True, alpha=0.3)\n",
    "\n",
    "plt.tight_layout()\n",
    "plt.show()\n",
    "\n",
    "print(f\"DINOv2 CLS stats: mean={cls_dinov2_t1.mean():.3f}, std={cls_dinov2_t1.std():.3f}\")\n",
    "print(f\"DINOv3 CLS stats: mean={cls_dinov3_t1.mean():.3f}, std={cls_dinov3_t1.std():.3f}\")"
   ]
  }
 ],
 "metadata": {
  "kernelspec": {
   "display_name": "light-stable",
   "language": "python",
   "name": "python3"
  },
  "language_info": {
   "codemirror_mode": {
    "name": "ipython",
    "version": 3
   },
   "file_extension": ".py",
   "mimetype": "text/x-python",
   "name": "python",
   "nbconvert_exporter": "python",
   "pygments_lexer": "ipython3",
   "version": "3.10.18"
  }
 },
 "nbformat": 4,
 "nbformat_minor": 2
}